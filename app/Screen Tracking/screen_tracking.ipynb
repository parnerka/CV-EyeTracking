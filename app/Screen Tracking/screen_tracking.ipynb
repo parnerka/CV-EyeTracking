{
 "cells": [
  {
   "cell_type": "markdown",
   "metadata": {},
   "source": [
    "# Screen Tracking Notebook"
   ]
  },
  {
   "cell_type": "markdown",
   "metadata": {},
   "source": [
    "<b>Importing Required Libraries</b>"
   ]
  },
  {
   "cell_type": "code",
   "execution_count": 14,
   "metadata": {
    "metadata": {}
   },
   "outputs": [],
   "source": [
    "import cv2\n",
    "from pupil_apriltags import Detector\n",
    "import numpy as np\n",
    "import itertools\n",
    "from scipy.spatial.distance import pdist\n",
    "import pandas as pd\n",
    "from tqdm import tqdm\n",
    "import warnings\n",
    "from datetime import datetime\n",
    "import csv\n",
    "warnings.filterwarnings('ignore')"
   ]
  },
  {
   "cell_type": "markdown",
   "metadata": {},
   "source": [
    "<b>Initializing the constructor corresponding to the April Tag detection library</b>"
   ]
  },
  {
   "cell_type": "code",
   "execution_count": 15,
   "metadata": {
    "metadata": {}
   },
   "outputs": [],
   "source": [
    "csv_data = []\n",
    "\n",
    "at_detector_36h11 = Detector(\n",
    "    families=\"tag36h11\",\n",
    "    nthreads=4,\n",
    "    quad_decimate=1.0,\n",
    "    quad_sigma=0.0,\n",
    "    refine_edges=1,\n",
    "    decode_sharpening=0.25,\n",
    "    debug=0\n",
    ")"
   ]
  },
  {
   "cell_type": "markdown",
   "metadata": {},
   "source": [
    "### Set the video location and the tobii data location\n",
    "\n",
    "Example:<br>\n",
    "video_loc = \"C:\\\\Users\\\\ARL\\\\GroundingDINO\\\\app\\\\app_data_demo\\\\demo_video.mp4\"<br>\n",
    "tobii_data = pd.read_csv(\"C:\\\\Users\\\\ARL\\\\GroundingDINO\\\\app\\\\app_data_demo\\\\app_data.csv\")"
   ]
  },
  {
   "cell_type": "code",
   "execution_count": 16,
   "metadata": {
    "metadata": {}
   },
   "outputs": [
    {
     "data": {
      "text/html": [
       "<div>\n",
       "<style scoped>\n",
       "    .dataframe tbody tr th:only-of-type {\n",
       "        vertical-align: middle;\n",
       "    }\n",
       "\n",
       "    .dataframe tbody tr th {\n",
       "        vertical-align: top;\n",
       "    }\n",
       "\n",
       "    .dataframe thead th {\n",
       "        text-align: right;\n",
       "    }\n",
       "</style>\n",
       "<table border=\"1\" class=\"dataframe\">\n",
       "  <thead>\n",
       "    <tr style=\"text-align: right;\">\n",
       "      <th></th>\n",
       "      <th>timestamp</th>\n",
       "      <th>gaze2d_x</th>\n",
       "      <th>gaze2d_y</th>\n",
       "    </tr>\n",
       "  </thead>\n",
       "  <tbody>\n",
       "    <tr>\n",
       "      <th>0</th>\n",
       "      <td>30.636567</td>\n",
       "      <td>0.603551</td>\n",
       "      <td>0.376057</td>\n",
       "    </tr>\n",
       "    <tr>\n",
       "      <th>1</th>\n",
       "      <td>30.706718</td>\n",
       "      <td>0.556380</td>\n",
       "      <td>0.376542</td>\n",
       "    </tr>\n",
       "    <tr>\n",
       "      <th>2</th>\n",
       "      <td>30.776836</td>\n",
       "      <td>0.517973</td>\n",
       "      <td>0.377112</td>\n",
       "    </tr>\n",
       "    <tr>\n",
       "      <th>3</th>\n",
       "      <td>30.836929</td>\n",
       "      <td>0.497531</td>\n",
       "      <td>0.378401</td>\n",
       "    </tr>\n",
       "    <tr>\n",
       "      <th>4</th>\n",
       "      <td>30.907079</td>\n",
       "      <td>0.470546</td>\n",
       "      <td>0.384249</td>\n",
       "    </tr>\n",
       "    <tr>\n",
       "      <th>...</th>\n",
       "      <td>...</td>\n",
       "      <td>...</td>\n",
       "      <td>...</td>\n",
       "    </tr>\n",
       "    <tr>\n",
       "      <th>70</th>\n",
       "      <td>35.305028</td>\n",
       "      <td>0.486544</td>\n",
       "      <td>0.360548</td>\n",
       "    </tr>\n",
       "    <tr>\n",
       "      <th>71</th>\n",
       "      <td>35.375106</td>\n",
       "      <td>0.485883</td>\n",
       "      <td>0.357980</td>\n",
       "    </tr>\n",
       "    <tr>\n",
       "      <th>72</th>\n",
       "      <td>35.445266</td>\n",
       "      <td>0.488010</td>\n",
       "      <td>0.356730</td>\n",
       "    </tr>\n",
       "    <tr>\n",
       "      <th>73</th>\n",
       "      <td>35.505390</td>\n",
       "      <td>0.489435</td>\n",
       "      <td>0.355231</td>\n",
       "    </tr>\n",
       "    <tr>\n",
       "      <th>74</th>\n",
       "      <td>35.575469</td>\n",
       "      <td>0.488956</td>\n",
       "      <td>0.352870</td>\n",
       "    </tr>\n",
       "  </tbody>\n",
       "</table>\n",
       "<p>75 rows × 3 columns</p>\n",
       "</div>"
      ],
      "text/plain": [
       "    timestamp  gaze2d_x  gaze2d_y\n",
       "0   30.636567  0.603551  0.376057\n",
       "1   30.706718  0.556380  0.376542\n",
       "2   30.776836  0.517973  0.377112\n",
       "3   30.836929  0.497531  0.378401\n",
       "4   30.907079  0.470546  0.384249\n",
       "..        ...       ...       ...\n",
       "70  35.305028  0.486544  0.360548\n",
       "71  35.375106  0.485883  0.357980\n",
       "72  35.445266  0.488010  0.356730\n",
       "73  35.505390  0.489435  0.355231\n",
       "74  35.575469  0.488956  0.352870\n",
       "\n",
       "[75 rows x 3 columns]"
      ]
     },
     "execution_count": 16,
     "metadata": {},
     "output_type": "execute_result"
    }
   ],
   "source": [
    "video_loc = \"C:\\\\Users\\\\ARL\\\\GroundingDINO\\\\app\\\\app_data_demo\\\\demo_video.mp4\"\n",
    "tobii_data = pd.read_csv(\"C:\\\\Users\\\\ARL\\\\GroundingDINO\\\\app\\\\app_data_demo\\\\app_data.csv\")\n",
    "tobii_data"
   ]
  },
  {
   "cell_type": "code",
   "execution_count": 17,
   "metadata": {
    "metadata": {}
   },
   "outputs": [],
   "source": [
    "# Output Video Frame Rate - Editable\n",
    "output_frame_rate = 24"
   ]
  },
  {
   "cell_type": "markdown",
   "metadata": {},
   "source": [
    "<b>Explanation of what the next 2 code cells do : </b>These code cells are used for the following tasks:\n",
    "\n",
    "1. The `find_screen_containing_point` function takes in the screen results (centres, corners, etc) and the gaze point to check which screen is currently being looked at. It also leverages the `is_point_inside_rectangle` function as a helper function to check if the point is inside a specific bounding box or not. \n",
    "\n",
    "2. Once the current screen being looked at is found, the `plot_det_april` function along with its helper functions (`select_tightest_pack`, `calculate_total_distance`) find the 4 points which are closest to the screen. "
   ]
  },
  {
   "cell_type": "code",
   "execution_count": null,
   "metadata": {
    "metadata": {}
   },
   "outputs": [],
   "source": [
    "def calculate_total_distance(points):\n",
    "    distances = pdist(points)\n",
    "    return np.sum(distances)\n",
    "\n",
    "def select_tightest_pack(points_list):\n",
    "    min_total_distance = float('inf')\n",
    "    tightest_pack = None\n",
    "\n",
    "    for combination in itertools.product(*points_list):\n",
    "        total_distance = calculate_total_distance(combination)\n",
    "        if total_distance < min_total_distance:\n",
    "            min_total_distance = total_distance\n",
    "            tightest_pack = combination\n",
    "\n",
    "    return tightest_pack\n",
    "\n",
    "def plot_det_april(image, results, label):\n",
    "    point_collection = []\n",
    "    for r in results:\n",
    "        (ptA, ptB, ptC, ptD) = r.corners\n",
    "        ptB = (int(ptB[0]), int(ptB[1]))\n",
    "        ptC = (int(ptC[0]), int(ptC[1]))\n",
    "        ptD = (int(ptD[0]), int(ptD[1]))\n",
    "        ptA = (int(ptA[0]), int(ptA[1]))\n",
    "\n",
    "        point_collection.append([ptB, ptC, ptD, ptA])\n",
    "\n",
    "    min_rectangle_points = select_tightest_pack(point_collection)\n",
    "    return min_rectangle_points"
   ]
  },
  {
   "cell_type": "code",
   "execution_count": 19,
   "metadata": {
    "metadata": {}
   },
   "outputs": [],
   "source": [
    "def is_point_inside_rectangle(point, rectangle):\n",
    "    x, y = point\n",
    "    min_x = np.min(rectangle[:, 0])\n",
    "    max_x = np.max(rectangle[:, 0])\n",
    "    min_y = np.min(rectangle[:, 1])\n",
    "    max_y = np.max(rectangle[:, 1])\n",
    "\n",
    "    if min_x <= x <= max_x and min_y <= y <= max_y:\n",
    "        return True\n",
    "    return False\n",
    "\n",
    "def find_screen_containing_point(screens, point):\n",
    "    for screen_index, screen_results in enumerate(screens):\n",
    "        if len(screen_results) > 0:\n",
    "            centers = np.array([detection.center for detection in screen_results])\n",
    "            min_x = np.min(centers[:, 0])\n",
    "            max_x = np.max(centers[:, 0])\n",
    "            min_y = np.min(centers[:, 1])\n",
    "            max_y = np.max(centers[:, 1])\n",
    "            bounnding_rectangle = np.array([[min_x, min_y], [max_x, min_y], [min_x, max_y], [max_x, max_y]])\n",
    "\n",
    "            if is_point_inside_rectangle(point, bounnding_rectangle):\n",
    "                return screen_index\n",
    "            \n",
    "    return None"
   ]
  },
  {
   "cell_type": "markdown",
   "metadata": {},
   "source": [
    "<b>The `screen_track_single_img` function is used as a main function when a frame from the video is extracted.</b>"
   ]
  },
  {
   "cell_type": "code",
   "execution_count": 20,
   "metadata": {
    "metadata": {}
   },
   "outputs": [],
   "source": [
    "def screen_track_single_img(image, gaze2d, timestamp, op_ts):\n",
    "    if gaze2d is None:\n",
    "        return\n",
    "    \n",
    "    image_height, image_width, _ = image.shape\n",
    "    gray = cv2.cvtColor(image, cv2.COLOR_BGR2GRAY)\n",
    "    results_36h11 = at_detector_36h11.detect(gray)\n",
    "    available_screens = {\n",
    "        'screen1': [],\n",
    "        'screen2': [],\n",
    "        'screen3': [],\n",
    "        'screen4': []\n",
    "    }\n",
    "\n",
    "    for detection in results_36h11:\n",
    "        tag_id = detection.tag_id\n",
    "\n",
    "        if tag_id in [1, 2, 3, 4]:\n",
    "            available_screens['screen1'].append(tag_id)\n",
    "        if tag_id in [5, 6, 7, 8]:\n",
    "            available_screens['screen2'].append(tag_id)\n",
    "        if tag_id in [9, 10, 11, 12]:\n",
    "            available_screens['screen3'].append(tag_id)\n",
    "        if tag_id in [13, 14, 15, 16]:\n",
    "            available_screens['screen4'].append(tag_id)\n",
    "\n",
    "    for screen, tags in available_screens.items():\n",
    "        if len(tags) == 4:\n",
    "            available_screens[screen] = tags\n",
    "\n",
    "    screen1_results, screen2_results, screen3_results, screen4_results = [], [], [], []\n",
    "\n",
    "    for detection in results_36h11:\n",
    "        tag_id = detection.tag_id\n",
    "        if tag_id in available_screens['screen1']:\n",
    "            screen1_results.append(detection)\n",
    "        if tag_id in available_screens['screen2']:\n",
    "            screen2_results.append(detection)\n",
    "        if tag_id in available_screens['screen3']:\n",
    "            screen3_results.append(detection)\n",
    "        if tag_id in available_screens['screen4']:\n",
    "            screen4_results.append(detection)\n",
    "\n",
    "    screens = [screen1_results, screen2_results, screen3_results, screen4_results]\n",
    "    point = (gaze2d[0]*image_width, gaze2d[1]*image_height)\n",
    "    screen_index = find_screen_containing_point(screens, point)\n",
    "\n",
    "    if screen_index is not None:\n",
    "        min_rectangle_points = plot_det_april(image, screens[screen_index], f\"Screen {screen_index+1}\")\n",
    "        min_rectangle_points += (np.NaN,) * (4 - len(min_rectangle_points))\n",
    "        csv_data.append({\n",
    "            'timestamp': timestamp,\n",
    "            'Output_Video_Timestamp': op_ts,\n",
    "            'gaze2d_x': point[0],\n",
    "            'gaze2d_y': point[1],\n",
    "            'Screen': screen_index+1,\n",
    "            'BL': min_rectangle_points[0],\n",
    "            'BR': min_rectangle_points[1],\n",
    "            'TR': min_rectangle_points[2],\n",
    "            'TL': min_rectangle_points[3]\n",
    "        })\n",
    "    else:\n",
    "        csv_data.append({\n",
    "            'timestamp': timestamp,\n",
    "            'Output_Video_Timestamp': op_ts,\n",
    "            'gaze2d_x': point[0],\n",
    "            'gaze2d_y': point[1],\n",
    "            'Screen': np.NaN,\n",
    "            'BL': np.NaN,\n",
    "            'BR': np.NaN,\n",
    "            'TR': np.NaN,\n",
    "            'TL': np.NaN\n",
    "        })"
   ]
  },
  {
   "cell_type": "code",
   "execution_count": 21,
   "metadata": {
    "metadata": {}
   },
   "outputs": [],
   "source": [
    "# MAIN FUNCTION\n",
    "def batch_process_screen_det(video_loc, matched_rows):\n",
    "    cap = cv2.VideoCapture(video_loc)\n",
    "    total_frames = len(matched_rows)\n",
    "    ti = 1 / output_frame_rate\n",
    "    op_ts = 0.0\n",
    "    pbar = tqdm(total=total_frames, desc='Processing Frames')\n",
    "    for _, row in matched_rows.iterrows():\n",
    "        timestamp = row['timestamp']\n",
    "        if pd.notna(timestamp):\n",
    "            frame_number = int(timestamp * cap.get(cv2.CAP_PROP_FPS))\n",
    "            cap.set(cv2.CAP_PROP_POS_FRAMES, frame_number)\n",
    "            ret, frame = cap.read()\n",
    "            if ret:\n",
    "                gaze2d = (row['gaze2d_x'], row['gaze2d_y'])\n",
    "                screen_track_single_img(frame, gaze2d, timestamp, op_ts)\n",
    "                op_ts += ti\n",
    "        pbar.update(1)\n",
    "\n",
    "    pbar.close()\n",
    "    cap.release()"
   ]
  },
  {
   "cell_type": "code",
   "execution_count": 22,
   "metadata": {
    "metadata": {}
   },
   "outputs": [
    {
     "name": "stderr",
     "output_type": "stream",
     "text": [
      "Processing Frames:   0%|          | 0/75 [00:00<?, ?it/s]"
     ]
    },
    {
     "name": "stderr",
     "output_type": "stream",
     "text": [
      "Processing Frames: 100%|██████████| 75/75 [00:07<00:00, 10.33it/s]\n"
     ]
    }
   ],
   "source": [
    "batch_process_screen_det(video_loc, tobii_data)    # Processing started"
   ]
  },
  {
   "cell_type": "code",
   "execution_count": 23,
   "metadata": {
    "metadata": {}
   },
   "outputs": [],
   "source": [
    "# Results to CSV\n",
    "current_datetime = datetime.now().strftime(\"%Y-%m-%d_%H-%M-%S\")\n",
    "csv_df = pd.DataFrame(csv_data)\n",
    "csv_df.to_csv(f\"screen_tracking_results_{current_datetime}.csv\", index=False, quoting=csv.QUOTE_NONNUMERIC)"
   ]
  },
  {
   "cell_type": "markdown",
   "metadata": {},
   "source": [
    "## Visualizer"
   ]
  },
  {
   "cell_type": "code",
   "execution_count": 24,
   "metadata": {
    "metadata": {}
   },
   "outputs": [
    {
     "data": {
      "text/html": [
       "<div>\n",
       "<style scoped>\n",
       "    .dataframe tbody tr th:only-of-type {\n",
       "        vertical-align: middle;\n",
       "    }\n",
       "\n",
       "    .dataframe tbody tr th {\n",
       "        vertical-align: top;\n",
       "    }\n",
       "\n",
       "    .dataframe thead th {\n",
       "        text-align: right;\n",
       "    }\n",
       "</style>\n",
       "<table border=\"1\" class=\"dataframe\">\n",
       "  <thead>\n",
       "    <tr style=\"text-align: right;\">\n",
       "      <th></th>\n",
       "      <th>timestamp</th>\n",
       "      <th>Output Video Timestamp</th>\n",
       "      <th>gaze2d_x</th>\n",
       "      <th>gaze2d_y</th>\n",
       "      <th>Screen</th>\n",
       "      <th>BL</th>\n",
       "      <th>BR</th>\n",
       "      <th>TR</th>\n",
       "      <th>TL</th>\n",
       "    </tr>\n",
       "  </thead>\n",
       "  <tbody>\n",
       "    <tr>\n",
       "      <th>0</th>\n",
       "      <td>30.636567</td>\n",
       "      <td>0.000000</td>\n",
       "      <td>1158.817056</td>\n",
       "      <td>406.141949</td>\n",
       "      <td>2.0</td>\n",
       "      <td>(829, 211)</td>\n",
       "      <td>(1392, 196)</td>\n",
       "      <td>(1385, 519)</td>\n",
       "      <td>(834, 517)</td>\n",
       "    </tr>\n",
       "    <tr>\n",
       "      <th>1</th>\n",
       "      <td>30.706718</td>\n",
       "      <td>0.041667</td>\n",
       "      <td>1068.249408</td>\n",
       "      <td>406.665328</td>\n",
       "      <td>2.0</td>\n",
       "      <td>(830, 211)</td>\n",
       "      <td>(1394, 196)</td>\n",
       "      <td>(1386, 519)</td>\n",
       "      <td>(835, 517)</td>\n",
       "    </tr>\n",
       "    <tr>\n",
       "      <th>2</th>\n",
       "      <td>30.776836</td>\n",
       "      <td>0.083333</td>\n",
       "      <td>994.508851</td>\n",
       "      <td>407.281414</td>\n",
       "      <td>2.0</td>\n",
       "      <td>(833, 212)</td>\n",
       "      <td>(1397, 196)</td>\n",
       "      <td>(1390, 519)</td>\n",
       "      <td>(839, 518)</td>\n",
       "    </tr>\n",
       "    <tr>\n",
       "      <th>3</th>\n",
       "      <td>30.836929</td>\n",
       "      <td>0.125000</td>\n",
       "      <td>955.259232</td>\n",
       "      <td>408.673318</td>\n",
       "      <td>2.0</td>\n",
       "      <td>(829, 212)</td>\n",
       "      <td>(1393, 197)</td>\n",
       "      <td>(1385, 519)</td>\n",
       "      <td>(834, 518)</td>\n",
       "    </tr>\n",
       "    <tr>\n",
       "      <th>4</th>\n",
       "      <td>30.907079</td>\n",
       "      <td>0.166667</td>\n",
       "      <td>903.448397</td>\n",
       "      <td>414.988985</td>\n",
       "      <td>2.0</td>\n",
       "      <td>(828, 212)</td>\n",
       "      <td>(1390, 197)</td>\n",
       "      <td>(1383, 519)</td>\n",
       "      <td>(832, 518)</td>\n",
       "    </tr>\n",
       "    <tr>\n",
       "      <th>...</th>\n",
       "      <td>...</td>\n",
       "      <td>...</td>\n",
       "      <td>...</td>\n",
       "      <td>...</td>\n",
       "      <td>...</td>\n",
       "      <td>...</td>\n",
       "      <td>...</td>\n",
       "      <td>...</td>\n",
       "      <td>...</td>\n",
       "    </tr>\n",
       "    <tr>\n",
       "      <th>70</th>\n",
       "      <td>35.305028</td>\n",
       "      <td>2.916667</td>\n",
       "      <td>934.163520</td>\n",
       "      <td>389.391624</td>\n",
       "      <td>2.0</td>\n",
       "      <td>(631, 286)</td>\n",
       "      <td>(1169, 301)</td>\n",
       "      <td>(1167, 600)</td>\n",
       "      <td>(628, 597)</td>\n",
       "    </tr>\n",
       "    <tr>\n",
       "      <th>71</th>\n",
       "      <td>35.375106</td>\n",
       "      <td>2.958333</td>\n",
       "      <td>932.895072</td>\n",
       "      <td>386.618508</td>\n",
       "      <td>2.0</td>\n",
       "      <td>(631, 285)</td>\n",
       "      <td>(1170, 301)</td>\n",
       "      <td>(1168, 599)</td>\n",
       "      <td>(628, 596)</td>\n",
       "    </tr>\n",
       "    <tr>\n",
       "      <th>72</th>\n",
       "      <td>35.445266</td>\n",
       "      <td>3.000000</td>\n",
       "      <td>936.978950</td>\n",
       "      <td>385.267936</td>\n",
       "      <td>2.0</td>\n",
       "      <td>(632, 285)</td>\n",
       "      <td>(1171, 301)</td>\n",
       "      <td>(1168, 599)</td>\n",
       "      <td>(629, 596)</td>\n",
       "    </tr>\n",
       "    <tr>\n",
       "      <th>73</th>\n",
       "      <td>35.505390</td>\n",
       "      <td>3.041667</td>\n",
       "      <td>939.716083</td>\n",
       "      <td>383.649113</td>\n",
       "      <td>2.0</td>\n",
       "      <td>(633, 285)</td>\n",
       "      <td>(1171, 301)</td>\n",
       "      <td>(1169, 599)</td>\n",
       "      <td>(629, 597)</td>\n",
       "    </tr>\n",
       "    <tr>\n",
       "      <th>74</th>\n",
       "      <td>35.575469</td>\n",
       "      <td>3.083333</td>\n",
       "      <td>938.796442</td>\n",
       "      <td>381.099524</td>\n",
       "      <td>2.0</td>\n",
       "      <td>(634, 286)</td>\n",
       "      <td>(1173, 301)</td>\n",
       "      <td>(1170, 600)</td>\n",
       "      <td>(631, 597)</td>\n",
       "    </tr>\n",
       "  </tbody>\n",
       "</table>\n",
       "<p>75 rows × 9 columns</p>\n",
       "</div>"
      ],
      "text/plain": [
       "    timestamp  Output Video Timestamp     gaze2d_x    gaze2d_y  Screen  \\\n",
       "0   30.636567                0.000000  1158.817056  406.141949     2.0   \n",
       "1   30.706718                0.041667  1068.249408  406.665328     2.0   \n",
       "2   30.776836                0.083333   994.508851  407.281414     2.0   \n",
       "3   30.836929                0.125000   955.259232  408.673318     2.0   \n",
       "4   30.907079                0.166667   903.448397  414.988985     2.0   \n",
       "..        ...                     ...          ...         ...     ...   \n",
       "70  35.305028                2.916667   934.163520  389.391624     2.0   \n",
       "71  35.375106                2.958333   932.895072  386.618508     2.0   \n",
       "72  35.445266                3.000000   936.978950  385.267936     2.0   \n",
       "73  35.505390                3.041667   939.716083  383.649113     2.0   \n",
       "74  35.575469                3.083333   938.796442  381.099524     2.0   \n",
       "\n",
       "            BL           BR           TR          TL  \n",
       "0   (829, 211)  (1392, 196)  (1385, 519)  (834, 517)  \n",
       "1   (830, 211)  (1394, 196)  (1386, 519)  (835, 517)  \n",
       "2   (833, 212)  (1397, 196)  (1390, 519)  (839, 518)  \n",
       "3   (829, 212)  (1393, 197)  (1385, 519)  (834, 518)  \n",
       "4   (828, 212)  (1390, 197)  (1383, 519)  (832, 518)  \n",
       "..         ...          ...          ...         ...  \n",
       "70  (631, 286)  (1169, 301)  (1167, 600)  (628, 597)  \n",
       "71  (631, 285)  (1170, 301)  (1168, 599)  (628, 596)  \n",
       "72  (632, 285)  (1171, 301)  (1168, 599)  (629, 596)  \n",
       "73  (633, 285)  (1171, 301)  (1169, 599)  (629, 597)  \n",
       "74  (634, 286)  (1173, 301)  (1170, 600)  (631, 597)  \n",
       "\n",
       "[75 rows x 9 columns]"
      ]
     },
     "execution_count": 24,
     "metadata": {},
     "output_type": "execute_result"
    }
   ],
   "source": [
    "csv_df"
   ]
  },
  {
   "cell_type": "code",
   "execution_count": 25,
   "metadata": {
    "metadata": {}
   },
   "outputs": [],
   "source": [
    "screen_coordinate_columns = ['BL', 'BR', 'TR', 'TL']"
   ]
  },
  {
   "cell_type": "markdown",
   "metadata": {},
   "source": [
    "<b>The code cell below is used to visualize the screen detection results</b>"
   ]
  },
  {
   "cell_type": "code",
   "execution_count": 26,
   "metadata": {
    "metadata": {}
   },
   "outputs": [
    {
     "name": "stderr",
     "output_type": "stream",
     "text": [
      "Processing Frames: 100%|██████████| 75/75 [00:09<00:00,  7.93it/s]\n"
     ]
    }
   ],
   "source": [
    "cap = cv2.VideoCapture(video_loc)\n",
    "output_video = cv2.VideoWriter(f\"screen_tracking_results_video_{current_datetime}.mp4\", cv2.VideoWriter_fourcc(*'mp4v'), output_frame_rate, (1920, 1080))\n",
    "\n",
    "current_frame = None\n",
    "\n",
    "total_frames = len(csv_df)\n",
    "pbar = tqdm(total=total_frames, desc='Processing Frames')\n",
    "\n",
    "for index, row in csv_df.iterrows():\n",
    "    timestamp = row['timestamp']\n",
    "    cap.set(cv2.CAP_PROP_POS_MSEC, int(timestamp*1000))\n",
    "    ret, frame = cap.read()\n",
    "\n",
    "    if not ret:\n",
    "        break\n",
    "\n",
    "    screen_coordinates = [row[col] for col in screen_coordinate_columns if not pd.isna(row[col])]\n",
    "    screen_coordinates = np.array(screen_coordinates, dtype=np.int32)\n",
    "    gaze_m = (int(row['gaze2d_x']), int(row['gaze2d_y'])) if not pd.isna(row['gaze2d_x']) and not pd.isna(row['gaze2d_y']) else (None, None)\n",
    "    screen_number = row['Screen']\n",
    "    if pd.isna(gaze_m[0]) or pd.isna(gaze_m[1]):\n",
    "        gaze_text = 'Gaze not found'\n",
    "    else:\n",
    "        gaze_text = 'Gaze Available'\n",
    "        cv2.circle(frame, gaze_m, 15, (255, 0, 0), -1)\n",
    "\n",
    "        if pd.isna(screen_number):\n",
    "            screen_text = 'Screen not detected'\n",
    "        else:\n",
    "            if len(screen_coordinates) < 4:\n",
    "                if not pd.isna(screen_number):\n",
    "                    screen_text = f'Not all April tags were detected but predicted screen = {int(screen_number)}'\n",
    "                # else:\n",
    "                #     screen_text = 'Not all April tags were detected'\n",
    "            else:\n",
    "                screen_text = f'Screen {int(screen_number)}'\n",
    "                hull = cv2.convexHull(screen_coordinates, clockwise=True)\n",
    "                cv2.drawContours(frame, [hull], -1, (0, 255, 0), 2)\n",
    "\n",
    "        cv2.putText(frame, screen_text, (20, 50), cv2.FONT_HERSHEY_SIMPLEX, 1, (0, 255, 0), 2)\n",
    "    cv2.putText(frame, gaze_text, (20, 110), cv2.FONT_HERSHEY_SIMPLEX, 1, (255, 0 ,0), 2)\n",
    "    output_video.write(frame)\n",
    "    cv2.waitKey(50)\n",
    "    pbar.update(1)\n",
    "\n",
    "pbar.close()\n",
    "cap.release()\n",
    "output_video.release()\n",
    "cv2.destroyAllWindows()"
   ]
  }
 ],
 "metadata": {
  "kernelspec": {
   "display_name": "cv-final",
   "language": "python",
   "name": "python3"
  },
  "language_info": {
   "codemirror_mode": {
    "name": "ipython",
    "version": 3
   },
   "file_extension": ".py",
   "mimetype": "text/x-python",
   "name": "python",
   "nbconvert_exporter": "python",
   "pygments_lexer": "ipython3",
   "version": "3.11.7"
  }
 },
 "nbformat": 4,
 "nbformat_minor": 2
}
